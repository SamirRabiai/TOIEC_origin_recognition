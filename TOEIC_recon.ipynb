{
 "cells": [
  {
   "attachments": {},
   "cell_type": "markdown",
   "metadata": {},
   "source": [
    "### Samir RABIAI M2 ISD\n",
    "\n",
    "Les cellules pour tester notre modèle le plus performant avec les données test sont à la fin du NoteBook"
   ]
  },
  {
   "cell_type": "code",
   "execution_count": 1,
   "metadata": {},
   "outputs": [],
   "source": [
    "# Bibliothèques utilisées\n",
    "\n",
    "import numpy as np\n",
    "import pandas as pd\n",
    "from matplotlib import pyplot\n",
    "import seaborn as sns\n",
    "import re\n",
    "import csv"
   ]
  },
  {
   "cell_type": "code",
   "execution_count": 3,
   "metadata": {},
   "outputs": [],
   "source": [
    "# Modification du fichier pour avoir le format voulu\n",
    "\n",
    "with open('train.txt') as file:\n",
    "    lines = file.readlines()\n",
    "    with open('train.txt', \"w\") as file:\n",
    "        for line in lines:\n",
    "            file.write(re.sub(r\"\\(([A-Z]+)\\) (.+)\", r'\\1;\"\\2\"', line))\n",
    "# Upload du fichier\n",
    "df = pd.read_table(\"train.txt\", sep=\";\", names=[\"origin\",\"text\"])"
   ]
  },
  {
   "attachments": {},
   "cell_type": "markdown",
   "metadata": {},
   "source": [
    "Quelques visualisations"
   ]
  },
  {
   "cell_type": "code",
   "execution_count": 4,
   "metadata": {},
   "outputs": [
    {
     "data": {
      "text/html": [
       "<div>\n",
       "<style scoped>\n",
       "    .dataframe tbody tr th:only-of-type {\n",
       "        vertical-align: middle;\n",
       "    }\n",
       "\n",
       "    .dataframe tbody tr th {\n",
       "        vertical-align: top;\n",
       "    }\n",
       "\n",
       "    .dataframe thead th {\n",
       "        text-align: right;\n",
       "    }\n",
       "</style>\n",
       "<table border=\"1\" class=\"dataframe\">\n",
       "  <thead>\n",
       "    <tr style=\"text-align: right;\">\n",
       "      <th></th>\n",
       "      <th>origin</th>\n",
       "      <th>text</th>\n",
       "    </tr>\n",
       "  </thead>\n",
       "  <tbody>\n",
       "    <tr>\n",
       "      <th>0</th>\n",
       "      <td>GER</td>\n",
       "      <td>IThe importance and popularity of travelling i...</td>\n",
       "    </tr>\n",
       "    <tr>\n",
       "      <th>1</th>\n",
       "      <td>TUR</td>\n",
       "      <td>It is an important decision , how to plan your...</td>\n",
       "    </tr>\n",
       "    <tr>\n",
       "      <th>2</th>\n",
       "      <td>CHI</td>\n",
       "      <td>Some people believe that young people can enjo...</td>\n",
       "    </tr>\n",
       "    <tr>\n",
       "      <th>3</th>\n",
       "      <td>TEL</td>\n",
       "      <td>Travelling is usually considered as good recre...</td>\n",
       "    </tr>\n",
       "    <tr>\n",
       "      <th>4</th>\n",
       "      <td>ARA</td>\n",
       "      <td>i agree that . Life is a person live period of...</td>\n",
       "    </tr>\n",
       "  </tbody>\n",
       "</table>\n",
       "</div>"
      ],
      "text/plain": [
       "  origin                                               text\n",
       "0    GER  IThe importance and popularity of travelling i...\n",
       "1    TUR  It is an important decision , how to plan your...\n",
       "2    CHI  Some people believe that young people can enjo...\n",
       "3    TEL  Travelling is usually considered as good recre...\n",
       "4    ARA  i agree that . Life is a person live period of..."
      ]
     },
     "execution_count": 4,
     "metadata": {},
     "output_type": "execute_result"
    }
   ],
   "source": [
    "df.head()"
   ]
  },
  {
   "cell_type": "code",
   "execution_count": 5,
   "metadata": {},
   "outputs": [
    {
     "data": {
      "text/html": [
       "<div>\n",
       "<style scoped>\n",
       "    .dataframe tbody tr th:only-of-type {\n",
       "        vertical-align: middle;\n",
       "    }\n",
       "\n",
       "    .dataframe tbody tr th {\n",
       "        vertical-align: top;\n",
       "    }\n",
       "\n",
       "    .dataframe thead th {\n",
       "        text-align: right;\n",
       "    }\n",
       "</style>\n",
       "<table border=\"1\" class=\"dataframe\">\n",
       "  <thead>\n",
       "    <tr style=\"text-align: right;\">\n",
       "      <th></th>\n",
       "      <th>origin</th>\n",
       "      <th>text</th>\n",
       "    </tr>\n",
       "  </thead>\n",
       "  <tbody>\n",
       "    <tr>\n",
       "      <th>count</th>\n",
       "      <td>9900</td>\n",
       "      <td>9900</td>\n",
       "    </tr>\n",
       "    <tr>\n",
       "      <th>unique</th>\n",
       "      <td>11</td>\n",
       "      <td>9900</td>\n",
       "    </tr>\n",
       "    <tr>\n",
       "      <th>top</th>\n",
       "      <td>GER</td>\n",
       "      <td>IThe importance and popularity of travelling i...</td>\n",
       "    </tr>\n",
       "    <tr>\n",
       "      <th>freq</th>\n",
       "      <td>900</td>\n",
       "      <td>1</td>\n",
       "    </tr>\n",
       "  </tbody>\n",
       "</table>\n",
       "</div>"
      ],
      "text/plain": [
       "       origin                                               text\n",
       "count    9900                                               9900\n",
       "unique     11                                               9900\n",
       "top       GER  IThe importance and popularity of travelling i...\n",
       "freq      900                                                  1"
      ]
     },
     "execution_count": 5,
     "metadata": {},
     "output_type": "execute_result"
    }
   ],
   "source": [
    "df.describe()"
   ]
  },
  {
   "cell_type": "code",
   "execution_count": 6,
   "metadata": {},
   "outputs": [
    {
     "data": {
      "text/plain": [
       "array(['GER', 'TUR', 'CHI', 'TEL', 'ARA', 'SPA', 'HIN', 'JPN', 'KOR',\n",
       "       'FRE', 'ITA'], dtype=object)"
      ]
     },
     "execution_count": 6,
     "metadata": {},
     "output_type": "execute_result"
    }
   ],
   "source": [
    "df[\"origin\"].unique()"
   ]
  },
  {
   "cell_type": "code",
   "execution_count": 7,
   "metadata": {},
   "outputs": [
    {
     "data": {
      "text/plain": [
       "GER    900\n",
       "TUR    900\n",
       "CHI    900\n",
       "TEL    900\n",
       "ARA    900\n",
       "SPA    900\n",
       "HIN    900\n",
       "JPN    900\n",
       "KOR    900\n",
       "FRE    900\n",
       "ITA    900\n",
       "Name: origin, dtype: int64"
      ]
     },
     "execution_count": 7,
     "metadata": {},
     "output_type": "execute_result"
    }
   ],
   "source": [
    "df[\"origin\"].value_counts()"
   ]
  },
  {
   "attachments": {},
   "cell_type": "markdown",
   "metadata": {},
   "source": [
    "Preprocessing"
   ]
  },
  {
   "cell_type": "code",
   "execution_count": 9,
   "metadata": {},
   "outputs": [
    {
     "name": "stderr",
     "output_type": "stream",
     "text": [
      "[nltk_data] Downloading package wordnet to\n",
      "[nltk_data]     C:\\Users\\samra\\AppData\\Roaming\\nltk_data...\n",
      "[nltk_data]   Package wordnet is already up-to-date!\n"
     ]
    }
   ],
   "source": [
    "# Bibliothèques à utiliser\n",
    "import contractions\n",
    "\n",
    "import gensim\n",
    "\n",
    "#pour lemmatiser nos mots\n",
    "import nltk\n",
    "nltk.download('wordnet')\n",
    "from nltk.stem import WordNetLemmatizer\n",
    "from nltk.tokenize import word_tokenize"
   ]
  },
  {
   "cell_type": "code",
   "execution_count": 10,
   "metadata": {},
   "outputs": [],
   "source": [
    "# Préprocessing classique\n",
    "\n",
    "def clean_text(text):\n",
    "    \n",
    "    #lowercase\n",
    "    res_text = text.lower()\n",
    "    #contractions\n",
    "    res_text = contractions.fix(res_text)\n",
    "    #remove punctuation\n",
    "    res_text = re.sub(r'[^\\w\\s]', '', res_text)\n",
    "    #remove stop words\n",
    "    res_text = gensim.parsing.remove_stopwords(res_text)\n",
    "    #lemmatization\n",
    "    lemmatizer = WordNetLemmatizer()\n",
    "    res_text = nltk.word_tokenize(res_text)\n",
    "    res_text = ' '.join([lemmatizer.lemmatize(w) for w in res_text])\n",
    "    #remove words that are 2 letters or less\n",
    "    res_text = res_text.split(' ')\n",
    "    res_text = [word for word in res_text if len(word) > 2]\n",
    "    res_text = \" \".join(res_text)\n",
    "    return res_text\n"
   ]
  },
  {
   "cell_type": "code",
   "execution_count": 11,
   "metadata": {},
   "outputs": [],
   "source": [
    "cleaned_text = [clean_text(df.iloc[i]['text']) for i in range(len(df))]\n",
    "df['cleaned_text'] = cleaned_text"
   ]
  },
  {
   "attachments": {},
   "cell_type": "markdown",
   "metadata": {},
   "source": [
    "Modèles simples\n"
   ]
  },
  {
   "attachments": {},
   "cell_type": "markdown",
   "metadata": {},
   "source": [
    "Régression logistique avec CountVectorizer et TF-IDF\n"
   ]
  },
  {
   "cell_type": "code",
   "execution_count": 12,
   "metadata": {},
   "outputs": [],
   "source": [
    "# Word embedding \n",
    "# Utilisation des algo CountVecterozier et TF-IDF\n",
    "\n",
    "from sklearn.model_selection import train_test_split\n",
    "\n",
    "from sklearn.feature_extraction.text import CountVectorizer, TfidfTransformer, TfidfVectorizer\n",
    "\n",
    "X = df['cleaned_text'].values.tolist()\n",
    "Y = df['origin'].values.tolist()"
   ]
  },
  {
   "cell_type": "code",
   "execution_count": 13,
   "metadata": {},
   "outputs": [],
   "source": [
    "\n",
    "# TF IDF\n",
    "tf = TfidfVectorizer(max_df= 0.8)\n",
    "tf_X = tf.fit_transform(X)\n"
   ]
  },
  {
   "cell_type": "code",
   "execution_count": 14,
   "metadata": {},
   "outputs": [],
   "source": [
    "X_train, X_test, y_train, y_test = train_test_split(X,Y, test_size=0.2, random_state=29)"
   ]
  },
  {
   "cell_type": "code",
   "execution_count": 15,
   "metadata": {},
   "outputs": [
    {
     "name": "stdout",
     "output_type": "stream",
     "text": [
      "LogisticRegression(max_iter=2000)\n"
     ]
    }
   ],
   "source": [
    "\n",
    "# Utilisation du modèle de régression logistique\n",
    "\n",
    "from sklearn.linear_model import LogisticRegression\n",
    "\n",
    "tf_train = tf.transform(X_train)\n",
    "tf_test = tf.transform(X_test)\n",
    "\n",
    "lr = LogisticRegression( max_iter= 2000)\n",
    "tfidf_lr = lr.fit(tf_train, y_train)\n",
    "\n",
    "\n",
    "print(tfidf_lr)"
   ]
  },
  {
   "cell_type": "code",
   "execution_count": 16,
   "metadata": {},
   "outputs": [],
   "source": [
    "tf_y_pred = tfidf_lr.predict(tf_test)"
   ]
  },
  {
   "cell_type": "code",
   "execution_count": 17,
   "metadata": {},
   "outputs": [
    {
     "name": "stdout",
     "output_type": "stream",
     "text": [
      "Logistic Regression with TF IDF Embedding\n",
      "accuracy :  0.6348484848484849\n",
      "f1_score :  0.6338006026358741\n",
      "precision score :  0.6344140477090864\n"
     ]
    }
   ],
   "source": [
    "from sklearn import metrics\n",
    "print(\"Logistic Regression with TF IDF Embedding\")\n",
    "print('accuracy : ', metrics.accuracy_score(y_test, tf_y_pred))\n",
    "print('f1_score : ', metrics.f1_score(y_test, tf_y_pred, average='macro'))\n",
    "print('precision score : ', metrics.precision_score(y_test, tf_y_pred, average= 'macro'))\n",
    "\n"
   ]
  },
  {
   "cell_type": "code",
   "execution_count": 18,
   "metadata": {},
   "outputs": [],
   "source": [
    "# CountVectorizer\n",
    "cv = CountVectorizer(max_df=0.8)\n",
    "cv_X = cv.fit_transform(X)\n",
    "cv_train = cv.transform(X_train)\n",
    "cv_test = cv.transform(X_test)\n",
    "cv_lr = lr.fit(cv_train, y_train)\n",
    "cv_y_pred = cv_lr.predict(cv_test)"
   ]
  },
  {
   "cell_type": "code",
   "execution_count": 19,
   "metadata": {},
   "outputs": [
    {
     "name": "stdout",
     "output_type": "stream",
     "text": [
      "Logistic Regression with CountVectorizer Embedding\n",
      "accuracy :  0.6338383838383839\n",
      "f1_score :  0.6333020588788121\n",
      "precision score :  0.6341029046192708\n"
     ]
    }
   ],
   "source": [
    "print(\"Logistic Regression with CountVectorizer Embedding\")\n",
    "print('accuracy : ', metrics.accuracy_score(y_test, cv_y_pred))\n",
    "print('f1_score : ', metrics.f1_score(y_test, cv_y_pred, average='macro'))\n",
    "print('precision score : ', metrics.precision_score(y_test, cv_y_pred, average= 'macro'))"
   ]
  },
  {
   "attachments": {},
   "cell_type": "markdown",
   "metadata": {},
   "source": [
    "SVM avec TF-IDF et CountVectorizer"
   ]
  },
  {
   "cell_type": "code",
   "execution_count": 20,
   "metadata": {},
   "outputs": [],
   "source": [
    "# Modèle SVM avec TF IDF\n",
    "\n",
    "from sklearn.svm import SVC\n",
    "classifier = SVC(kernel = 'linear', random_state = 29)\n",
    "classifier.fit(tf_train, y_train)\n",
    "#Prediction sur le Test set\n",
    "tf_y_pred = classifier.predict(tf_test)"
   ]
  },
  {
   "cell_type": "code",
   "execution_count": 21,
   "metadata": {},
   "outputs": [
    {
     "name": "stdout",
     "output_type": "stream",
     "text": [
      "SVM with TF IDF Embedding\n",
      "accuracy :  0.6454545454545455\n",
      "f1_score :  0.6454749463817382\n",
      "precision score :  0.6485534180766808\n"
     ]
    }
   ],
   "source": [
    "\n",
    "print(\"SVM with TF IDF Embedding\")\n",
    "print('accuracy : ', metrics.accuracy_score(y_test, tf_y_pred))\n",
    "print('f1_score : ', metrics.f1_score(y_test, tf_y_pred, average='macro'))\n",
    "print('precision score : ', metrics.precision_score(y_test, tf_y_pred, average= 'macro'))"
   ]
  },
  {
   "cell_type": "code",
   "execution_count": 22,
   "metadata": {},
   "outputs": [],
   "source": [
    "classifier.fit(cv_train, y_train)\n",
    "#Prediction sur le Test set\n",
    "cv_y_pred = classifier.predict(cv_test)"
   ]
  },
  {
   "cell_type": "code",
   "execution_count": 23,
   "metadata": {},
   "outputs": [
    {
     "name": "stdout",
     "output_type": "stream",
     "text": [
      "SVM with CountVectorizer Embedding\n",
      "accuracy :  0.5595959595959596\n",
      "f1_score :  0.5580680258051905\n",
      "precision score :  0.5608032337650032\n"
     ]
    }
   ],
   "source": [
    "\n",
    "print(\"SVM with CountVectorizer Embedding\")\n",
    "print('accuracy : ', metrics.accuracy_score(y_test, cv_y_pred))\n",
    "print('f1_score : ', metrics.f1_score(y_test, cv_y_pred, average='macro'))\n",
    "print('precision score : ', metrics.precision_score(y_test, cv_y_pred, average= 'macro'))"
   ]
  },
  {
   "attachments": {},
   "cell_type": "markdown",
   "metadata": {},
   "source": [
    "Regression logistique avec Word2Vec Embedding"
   ]
  },
  {
   "cell_type": "code",
   "execution_count": 41,
   "metadata": {},
   "outputs": [
    {
     "name": "stderr",
     "output_type": "stream",
     "text": [
      "[nltk_data] Downloading package punkt to\n",
      "[nltk_data]     C:\\Users\\samra\\AppData\\Roaming\\nltk_data...\n",
      "[nltk_data]   Package punkt is already up-to-date!\n"
     ]
    },
    {
     "data": {
      "text/plain": [
       "True"
      ]
     },
     "execution_count": 41,
     "metadata": {},
     "output_type": "execute_result"
    }
   ],
   "source": [
    "import multiprocessing\n",
    "\n",
    "from gensim.models import Word2Vec\n",
    "\n",
    "import gensim\n",
    "from gensim.utils import simple_preprocess\n",
    "import nltk\n",
    "from nltk.tokenize import sent_tokenize\n",
    "nltk.download(\"punkt\")"
   ]
  },
  {
   "cell_type": "code",
   "execution_count": 42,
   "metadata": {},
   "outputs": [],
   "source": [
    "# Utilisation de modèle pré-entrainé\n",
    "import gensim.downloader as api\n",
    "wv = api.load('word2vec-google-news-300')"
   ]
  },
  {
   "cell_type": "code",
   "execution_count": 43,
   "metadata": {},
   "outputs": [],
   "source": [
    "# Construction de notre corpus\n",
    "corpus = [sent_tokenize(text) for text in df.cleaned_text.values.tolist()]"
   ]
  },
  {
   "cell_type": "code",
   "execution_count": 44,
   "metadata": {},
   "outputs": [
    {
     "name": "stdout",
     "output_type": "stream",
     "text": [
      "['ithe importance popularity travelling raising everybody interested getting know country continent way differently agree statement best way travel group led tour guide travel group tour guide know famous place know interesting thing country decided visit tour guide organise thing appointment group aspect know lot interesting people travel group easy know people usually sit bus sleep hotel like borring travel group decide travel group visit country dangerouses tour guide inform dangerouses avoid risk special rule thing bring trouble follow furthermore tour guide help communication problem able speak language people country visit speak tour guide help able speak visit doctor police happended ask tour guide able help reason prefer tavel group tour guide']\n"
     ]
    }
   ],
   "source": [
    "print(corpus[0])"
   ]
  },
  {
   "cell_type": "code",
   "execution_count": 79,
   "metadata": {},
   "outputs": [],
   "source": [
    "# Nous allons remplir deux listes, une avec les mots constituants le corpus, l'autre avec les labels\n",
    "# words va nous servir à initialiser notre modèle avec une fenetre de 3 et une répetition minimum de mots de 1\n",
    "\n",
    "words = []\n",
    "labels = []\n",
    "for txt,label in zip(df.cleaned_text.values.tolist(), df.origin.values.tolist()):\n",
    "    sent_txt = sent_tokenize(txt)\n",
    "    for word in sent_txt:\n",
    "        words.append(simple_preprocess(word))\n",
    "        labels.append(label)\n",
    "\n",
    "model_w2v = gensim.models.Word2Vec(words, window = 3, min_count = 1)"
   ]
  },
  {
   "cell_type": "code",
   "execution_count": 80,
   "metadata": {},
   "outputs": [
    {
     "name": "stdout",
     "output_type": "stream",
     "text": [
      "9900\n",
      "9900\n"
     ]
    }
   ],
   "source": [
    "model_w2v.corpus_count\n",
    "print(len(words))\n",
    "print(len(labels))"
   ]
  },
  {
   "cell_type": "code",
   "execution_count": 81,
   "metadata": {},
   "outputs": [],
   "source": [
    "def text_embeddings(text,model_w2v, method:str = 'avg'):\n",
    "    \"\"\" \n",
    "    Return the Text vector using the average or sum of word embeddings given by Word2Vec\n",
    "    \"\"\"\n",
    "    if method == 'avg':\n",
    "        return np.mean([model_w2v[word] for word in text if word in model_w2v.index_to_key], axis = 0)\n",
    "    return np.sum([model_w2v[word] for word in text if word in model_w2v.index_to_key], axis = 0)"
   ]
  },
  {
   "cell_type": "code",
   "execution_count": 82,
   "metadata": {},
   "outputs": [
    {
     "data": {
      "text/plain": [
       "array(['GER', 'TUR', 'CHI', 'TEL', 'ARA', 'SPA', 'HIN', 'JPN', 'KOR',\n",
       "       'FRE', 'ITA'], dtype=object)"
      ]
     },
     "execution_count": 82,
     "metadata": {},
     "output_type": "execute_result"
    }
   ],
   "source": [
    "df[\"origin\"].unique()"
   ]
  },
  {
   "cell_type": "code",
   "execution_count": 83,
   "metadata": {},
   "outputs": [],
   "source": [
    "# Nous allons créer nos vecteurs en utilisant la moyenne des word embeddings donnés par le modèle \n",
    "# A noter que cette cellule prend environs 25 min à s'executer \n",
    "X_texts = [text_embeddings(text,wv) for text in words]\n",
    "X_texts = np.array(X_texts)\n",
    "label_dict  ={'GER':0, 'TUR':1,'CHI': 2, 'TEL':3,'ARA': 4, 'SPA':5, 'HIN':6,'JPN': 7, 'KOR':8,'FRE': 9, 'ITA': 10}\n",
    "y_texts = [label_dict[label] for label in labels]\n",
    "y_texts = y_texts\n",
    "X_train, X_test, y_train, y_test = train_test_split(X_texts, y_texts, test_size =0.2)"
   ]
  },
  {
   "cell_type": "code",
   "execution_count": 84,
   "metadata": {},
   "outputs": [
    {
     "data": {
      "text/plain": [
       "(9900, 300)"
      ]
     },
     "execution_count": 84,
     "metadata": {},
     "output_type": "execute_result"
    }
   ],
   "source": [
    "X_texts.shape"
   ]
  },
  {
   "cell_type": "code",
   "execution_count": 85,
   "metadata": {},
   "outputs": [],
   "source": [
    "# Nous allons voir la performance du modèle de regression logistique avec les vecteurs Word2Vec (embedding vectors)\n",
    "lr_w2v = LogisticRegression(max_iter=20000)"
   ]
  },
  {
   "cell_type": "code",
   "execution_count": 86,
   "metadata": {},
   "outputs": [],
   "source": [
    "X_test_corr = []\n",
    "y_test_corr = []\n",
    "for i,y in zip(X_test,y_test):\n",
    "    X_test_corr.append(i)\n",
    "    y_test_corr.append(y)"
   ]
  },
  {
   "cell_type": "code",
   "execution_count": 87,
   "metadata": {},
   "outputs": [],
   "source": [
    "X_train_corr = []\n",
    "y_train_corr = []\n",
    "for i,y in zip(X_train,y_train):\n",
    "    X_train_corr.append(i)\n",
    "    y_train_corr.append(y)"
   ]
  },
  {
   "cell_type": "code",
   "execution_count": 88,
   "metadata": {},
   "outputs": [
    {
     "data": {
      "text/plain": [
       "(9900,)"
      ]
     },
     "execution_count": 88,
     "metadata": {},
     "output_type": "execute_result"
    }
   ],
   "source": [
    "X_train_corr = np.array(X_train_corr)\n",
    "X_test_corr = np.array(X_test_corr)\n",
    "\n",
    "np.shape(y_texts)"
   ]
  },
  {
   "cell_type": "code",
   "execution_count": 89,
   "metadata": {},
   "outputs": [
    {
     "data": {
      "text/plain": [
       "LogisticRegression(max_iter=20000)"
      ]
     },
     "execution_count": 89,
     "metadata": {},
     "output_type": "execute_result"
    }
   ],
   "source": [
    "y_train_corr = np.array(y_train_corr)\n",
    "lr_w2v.fit(X_train_corr, y_train_corr)"
   ]
  },
  {
   "cell_type": "code",
   "execution_count": 90,
   "metadata": {},
   "outputs": [
    {
     "data": {
      "text/plain": [
       "array([ 8,  4, 10, ...,  1,  8,  9])"
      ]
     },
     "execution_count": 90,
     "metadata": {},
     "output_type": "execute_result"
    }
   ],
   "source": [
    "lr_w2v.predict(X_test_corr)"
   ]
  },
  {
   "cell_type": "code",
   "execution_count": 91,
   "metadata": {},
   "outputs": [
    {
     "data": {
      "text/plain": [
       "0.3712121212121212"
      ]
     },
     "execution_count": 91,
     "metadata": {},
     "output_type": "execute_result"
    }
   ],
   "source": [
    "from sklearn.metrics import accuracy_score\n",
    "accuracy_score(y_test_corr,lr_w2v.predict(X_test_corr))"
   ]
  },
  {
   "attachments": {},
   "cell_type": "markdown",
   "metadata": {},
   "source": [
    "Accuracy word2vec avec window = 10 et logisticRegression  0.38282828282828285 d'accuracy et 66 min d'éxecution \n",
    "\n",
    "avec window = 3   62 min accuracy score = 0.3712121212121212\n",
    "                  "
   ]
  },
  {
   "attachments": {},
   "cell_type": "markdown",
   "metadata": {},
   "source": [
    "### Modifications preprocessing (pas de stemming ni lemmatization, laisser les stopwords) \n",
    "Nous allons refaire certains étapes précedentes mais cette fois ci avec un preprocessing plus adapté à notre tâche \\\n",
    "Vous pouvez commencer à exectuer à partir de cette cellule ou relancer le kernel\n"
   ]
  },
  {
   "cell_type": "code",
   "execution_count": 78,
   "metadata": {},
   "outputs": [],
   "source": [
    "# Bibliothèques utilisées\n",
    "\n",
    "import numpy as np\n",
    "import pandas as pd\n",
    "from matplotlib import pyplot\n",
    "import seaborn as sns\n",
    "import re\n",
    "import csv\n",
    "import contractions\n",
    "from sklearn.model_selection import train_test_split\n",
    "\n",
    "from sklearn.feature_extraction.text import CountVectorizer, TfidfTransformer, TfidfVectorizer\n",
    "from sklearn.linear_model import LogisticRegression\n"
   ]
  },
  {
   "cell_type": "code",
   "execution_count": 2,
   "metadata": {},
   "outputs": [],
   "source": [
    "# Modification du fichier pour avoir le format voulu\n",
    "\n",
    "with open('train.txt') as file:\n",
    "    lines = file.readlines()\n",
    "    with open('train.txt', \"w\") as file:\n",
    "        for line in lines:\n",
    "            file.write(re.sub(r\"\\(([A-Z]+)\\) (.+)\", r'\\1;\"\\2\"', line))\n",
    "# Upload du fichier\n",
    "df = pd.read_table(\"train.txt\", sep=\";\", names=[\"origin\",\"text\"])"
   ]
  },
  {
   "cell_type": "code",
   "execution_count": 4,
   "metadata": {},
   "outputs": [],
   "source": [
    "#Preprocessing\n",
    "# Bibliothèques à utiliser\n",
    "\n",
    "\n",
    "def clean_text(text):\n",
    "    \n",
    "    #lowercase\n",
    "    res_text = text.lower()\n",
    "    #contactions\n",
    "    res_text = contractions.fix(res_text)\n",
    "    #remove punctuation\n",
    "    res_text = re.sub(r'[^\\w\\s]', '', res_text)\n",
    "\n",
    "    return res_text\n"
   ]
  },
  {
   "cell_type": "code",
   "execution_count": 5,
   "metadata": {},
   "outputs": [],
   "source": [
    "cleaned_text = [clean_text(df.iloc[i]['text']) for i in range(len(df))]\n",
    "df['cleaned_text'] = cleaned_text"
   ]
  },
  {
   "cell_type": "code",
   "execution_count": 15,
   "metadata": {},
   "outputs": [],
   "source": [
    "\n",
    "\n",
    "X = df['cleaned_text'].values.tolist()\n",
    "Y = df['origin'].values.tolist()\n",
    "# TF IDF\n",
    "tf = TfidfVectorizer(max_df= 0.8)\n",
    "tf_X = tf.fit_transform(X)"
   ]
  },
  {
   "cell_type": "code",
   "execution_count": 16,
   "metadata": {},
   "outputs": [],
   "source": [
    "X_train, X_test, y_train, y_test = train_test_split(X,Y, test_size=0.2, random_state=29)"
   ]
  },
  {
   "cell_type": "code",
   "execution_count": 80,
   "metadata": {},
   "outputs": [
    {
     "name": "stdout",
     "output_type": "stream",
     "text": [
      "LogisticRegression(max_iter=2000)\n"
     ]
    }
   ],
   "source": [
    "\n",
    "# Utilisation du modèle de régression logistique\n",
    "\n",
    "\n",
    "tf_train = tf.transform(X_train)\n",
    "tf_test = tf.transform(X_test)\n",
    "\n",
    "lr = LogisticRegression( max_iter= 2000)\n",
    "tfidf_lr = lr.fit(tf_train, y_train)\n",
    "\n",
    "\n",
    "print(tfidf_lr)"
   ]
  },
  {
   "cell_type": "code",
   "execution_count": 18,
   "metadata": {},
   "outputs": [
    {
     "name": "stdout",
     "output_type": "stream",
     "text": [
      "Logistic Regression with TF IDF Embedding\n",
      "accuracy :  0.6722222222222223\n",
      "f1_score :  0.6712688377376596\n",
      "precision score :  0.6727870659818613\n"
     ]
    }
   ],
   "source": [
    "tf_y_pred = tfidf_lr.predict(tf_test)\n",
    "from sklearn import metrics\n",
    "print(\"Logistic Regression with TF IDF Embedding\")\n",
    "print('accuracy : ', metrics.accuracy_score(y_test, tf_y_pred))\n",
    "print('f1_score : ', metrics.f1_score(y_test, tf_y_pred, average='macro'))\n",
    "print('precision score : ', metrics.precision_score(y_test, tf_y_pred, average= 'macro'))"
   ]
  },
  {
   "cell_type": "code",
   "execution_count": 10,
   "metadata": {},
   "outputs": [],
   "source": [
    "# Regression logistique CountVectorizer"
   ]
  },
  {
   "cell_type": "code",
   "execution_count": 11,
   "metadata": {},
   "outputs": [],
   "source": [
    "# CountVectorizer\n",
    "cv = CountVectorizer(max_df=0.8)\n",
    "cv_X = cv.fit_transform(X)\n",
    "cv_train = cv.transform(X_train)\n",
    "cv_test = cv.transform(X_test)\n",
    "cv_lr = lr.fit(cv_train, y_train)\n",
    "cv_y_pred = cv_lr.predict(cv_test)"
   ]
  },
  {
   "cell_type": "code",
   "execution_count": 12,
   "metadata": {},
   "outputs": [
    {
     "name": "stdout",
     "output_type": "stream",
     "text": [
      "Logistic Regression with CountVectorizer Embedding\n",
      "accuracy :  0.6818181818181818\n",
      "f1_score :  0.6807873532443216\n",
      "precision score :  0.6815225284771577\n"
     ]
    }
   ],
   "source": [
    "print(\"Logistic Regression with CountVectorizer Embedding\")\n",
    "print('accuracy : ', metrics.accuracy_score(y_test, cv_y_pred))\n",
    "print('f1_score : ', metrics.f1_score(y_test, cv_y_pred, average='macro'))\n",
    "print('precision score : ', metrics.precision_score(y_test, cv_y_pred, average= 'macro'))"
   ]
  },
  {
   "cell_type": "code",
   "execution_count": 13,
   "metadata": {},
   "outputs": [],
   "source": [
    "# SVM with TF IDF\n",
    "from sklearn.svm import SVC\n",
    "classifier = SVC(kernel = 'linear', random_state = 29)\n",
    "classifier.fit(tf_train, y_train)\n",
    "#Prediction sur le Test set\n",
    "tf_y_pred = classifier.predict(tf_test)"
   ]
  },
  {
   "cell_type": "code",
   "execution_count": 16,
   "metadata": {},
   "outputs": [
    {
     "name": "stdout",
     "output_type": "stream",
     "text": [
      "SVM with TF IDF Embedding\n",
      "accuracy :  0.6944444444444444\n",
      "f1_score :  0.694127236780096\n",
      "precision score :  0.6966409596481816\n"
     ]
    }
   ],
   "source": [
    "print(\"SVM with TF IDF Embedding\")\n",
    "print('accuracy : ', metrics.accuracy_score(y_test, tf_y_pred))\n",
    "print('f1_score : ', metrics.f1_score(y_test, tf_y_pred, average='macro'))\n",
    "print('precision score : ', metrics.precision_score(y_test, tf_y_pred, average= 'macro'))"
   ]
  },
  {
   "cell_type": "code",
   "execution_count": 17,
   "metadata": {},
   "outputs": [
    {
     "name": "stdout",
     "output_type": "stream",
     "text": [
      "SVM with CountVectorizer Embedding\n",
      "accuracy :  0.6232323232323232\n",
      "f1_score :  0.6222511201629963\n",
      "precision score :  0.624211558453877\n"
     ]
    }
   ],
   "source": [
    "# SVM with CountVectorizer\n",
    "classifier.fit(cv_train, y_train)\n",
    "#Prediction sur le Test set\n",
    "cv_y_pred = classifier.predict(cv_test)\n",
    "print(\"SVM with CountVectorizer Embedding\")\n",
    "print('accuracy : ', metrics.accuracy_score(y_test, cv_y_pred))\n",
    "print('f1_score : ', metrics.f1_score(y_test, cv_y_pred, average='macro'))\n",
    "print('precision score : ', metrics.precision_score(y_test, cv_y_pred, average= 'macro'))"
   ]
  },
  {
   "attachments": {},
   "cell_type": "markdown",
   "metadata": {},
   "source": [
    "N gram Embedding (BI gram et Tri gram)"
   ]
  },
  {
   "cell_type": "code",
   "execution_count": 81,
   "metadata": {},
   "outputs": [],
   "source": [
    "# N gram Vectorisation with CountVectorizer\n",
    "# Bi Gram\n",
    "\n",
    "X = df['cleaned_text'].values.tolist()\n",
    "Y = df['origin'].values.tolist()\n",
    "# Utilisation du modèle de régression logistique\n",
    "cv = CountVectorizer(max_df=0.8, ngram_range=(2,2))\n",
    "cv_X = cv.fit_transform(X)\n",
    "X_train, X_test, y_train, y_test = train_test_split(X,Y, test_size=0.2, random_state=29)\n",
    "cv_train = cv.transform(X_train)\n",
    "cv_test = cv.transform(X_test)\n",
    "cv_lr = lr.fit(cv_train, y_train)\n",
    "cv_y_pred = cv_lr.predict(cv_test)"
   ]
  },
  {
   "cell_type": "code",
   "execution_count": 82,
   "metadata": {},
   "outputs": [
    {
     "name": "stdout",
     "output_type": "stream",
     "text": [
      "Logistic Regression with BiGram CountVectorizer Embedding\n",
      "accuracy :  0.694949494949495\n",
      "f1_score :  0.694488153208655\n",
      "precision score :  0.6945401001683469\n"
     ]
    }
   ],
   "source": [
    "print(\"Logistic Regression with BiGram CountVectorizer Embedding\")\n",
    "print('accuracy : ', metrics.accuracy_score(y_test, cv_y_pred))\n",
    "print('f1_score : ', metrics.f1_score(y_test, cv_y_pred, average='macro'))\n",
    "print('precision score : ', metrics.precision_score(y_test, cv_y_pred, average= 'macro'))"
   ]
  },
  {
   "cell_type": "code",
   "execution_count": 83,
   "metadata": {},
   "outputs": [],
   "source": [
    "cv = CountVectorizer(ngram_range=(3,3), max_df=0.8)\n",
    "cv_X = cv.fit_transform(X)\n",
    "X_train, X_test, y_train, y_test = train_test_split(X,Y, test_size=0.2, random_state=29)\n",
    "cv_train = cv.transform(X_train)\n",
    "cv_test = cv.transform(X_test)\n",
    "cv_lr = lr.fit(cv_train, y_train)\n",
    "cv_y_pred = cv_lr.predict(cv_test)"
   ]
  },
  {
   "cell_type": "code",
   "execution_count": 84,
   "metadata": {},
   "outputs": [
    {
     "name": "stdout",
     "output_type": "stream",
     "text": [
      "Logistic Regression with TriGram CountVectorizer Embedding\n",
      "accuracy :  0.5782828282828283\n",
      "f1_score :  0.5775888713824447\n",
      "precision score :  0.5830801012078141\n"
     ]
    }
   ],
   "source": [
    "print(\"Logistic Regression with TriGram CountVectorizer Embedding\")\n",
    "print('accuracy : ', metrics.accuracy_score(y_test, cv_y_pred))\n",
    "print('f1_score : ', metrics.f1_score(y_test, cv_y_pred, average='macro'))\n",
    "print('precision score : ', metrics.precision_score(y_test, cv_y_pred, average= 'macro'))"
   ]
  },
  {
   "cell_type": "code",
   "execution_count": 22,
   "metadata": {},
   "outputs": [],
   "source": [
    "# Regression logistique avec BiGram TF IDF\n",
    "tf = TfidfVectorizer(max_df=0.8, ngram_range=(2,2))\n",
    "tf_X = tf.fit_transform(X)\n",
    "X_train, X_test, y_train, y_test = train_test_split(X,Y, test_size=0.2, random_state=29)\n",
    "tf_train = tf.transform(X_train)\n",
    "tf_test = tf.transform(X_test)\n",
    "tf_lr = lr.fit(tf_train, y_train)\n",
    "tf_y_pred = tf_lr.predict(tf_test)"
   ]
  },
  {
   "cell_type": "code",
   "execution_count": 23,
   "metadata": {},
   "outputs": [
    {
     "name": "stdout",
     "output_type": "stream",
     "text": [
      "Logistic Regression with BiGram TF IDF Embedding\n",
      "accuracy :  0.6707070707070707\n",
      "f1_score :  0.6712451447645873\n",
      "precision score :  0.6784874610533368\n"
     ]
    }
   ],
   "source": [
    "print(\"Logistic Regression with BiGram TF IDF Embedding\")\n",
    "print('accuracy : ', metrics.accuracy_score(y_test, tf_y_pred))\n",
    "print('f1_score : ', metrics.f1_score(y_test, tf_y_pred, average='macro'))\n",
    "print('precision score : ', metrics.precision_score(y_test, tf_y_pred, average= 'macro'))"
   ]
  },
  {
   "attachments": {},
   "cell_type": "markdown",
   "metadata": {},
   "source": [
    "SVM with TF IDF Bi Gram"
   ]
  },
  {
   "cell_type": "code",
   "execution_count": 10,
   "metadata": {},
   "outputs": [],
   "source": [
    "X = df['cleaned_text'].values.tolist()\n",
    "Y = df['origin'].values.tolist()\n",
    "tf = TfidfVectorizer(max_df=0.8, ngram_range=(2,2))\n",
    "tf_X = tf.fit_transform(X)\n",
    "X_train, X_test, y_train, y_test = train_test_split(X,Y, test_size=0.2, random_state=29)\n",
    "tf_train = tf.transform(X_train)\n",
    "tf_test = tf.transform(X_test)"
   ]
  },
  {
   "cell_type": "code",
   "execution_count": 11,
   "metadata": {},
   "outputs": [],
   "source": [
    "\n",
    "from sklearn.svm import SVC\n",
    "classifier = SVC(kernel = 'linear', random_state = 0)\n",
    "classifier.fit(tf_train, y_train)\n",
    "tf_y_pred = classifier.predict(tf_test)"
   ]
  },
  {
   "cell_type": "code",
   "execution_count": 13,
   "metadata": {},
   "outputs": [
    {
     "name": "stdout",
     "output_type": "stream",
     "text": [
      "SVM with TriGram TF IDF Embedding\n",
      "accuracy :  0.591919191919192\n",
      "f1_score :  0.5926862532512902\n",
      "precision score :  0.6007423570182614\n"
     ]
    }
   ],
   "source": [
    "\n",
    "from sklearn import metrics\n",
    "print(\"SVM with TriGram TF IDF Embedding\")\n",
    "print('accuracy : ', metrics.accuracy_score(y_test, tf_y_pred))\n",
    "print('f1_score : ', metrics.f1_score(y_test, tf_y_pred, average='macro'))\n",
    "print('precision score : ', metrics.precision_score(y_test, tf_y_pred, average= 'macro'))"
   ]
  },
  {
   "attachments": {},
   "cell_type": "markdown",
   "metadata": {},
   "source": [
    "Modèles simples avec Cross validation \\\n",
    "Possible de relancer le kernel ici"
   ]
  },
  {
   "cell_type": "code",
   "execution_count": 1,
   "metadata": {},
   "outputs": [],
   "source": [
    "# SVM TFIDF BIGRAM CROSS VALIDATION\n",
    "\n",
    "import numpy as np\n",
    "import pandas as pd\n",
    "from matplotlib import pyplot\n",
    "import seaborn as sns\n",
    "import re\n",
    "import csv\n",
    "from sklearn.model_selection import train_test_split"
   ]
  },
  {
   "cell_type": "code",
   "execution_count": 2,
   "metadata": {},
   "outputs": [],
   "source": [
    "# Modification du fichier pour avoir le format voulu\n",
    "\n",
    "with open('train.txt') as file:\n",
    "    lines = file.readlines()\n",
    "    with open('train.txt', \"w\") as file:\n",
    "        for line in lines:\n",
    "            file.write(re.sub(r\"\\(([A-Z]+)\\) (.+)\", r'\\1;\"\\2\"', line))\n",
    "# Upload du fichier\n",
    "df = pd.read_table(\"train.txt\", sep=\";\", names=[\"origin\",\"text\"])"
   ]
  },
  {
   "cell_type": "code",
   "execution_count": 3,
   "metadata": {},
   "outputs": [],
   "source": [
    "\n",
    "#Preprocessing\n",
    "# Bibliothèques à utiliser\n",
    "import contractions\n",
    "\n",
    "def clean_text(text):\n",
    "    \n",
    "    #lowercase\n",
    "    res_text = text.lower()\n",
    "    #contactions\n",
    "    res_text = contractions.fix(res_text)\n",
    "    #remove punctuation\n",
    "    res_text = re.sub(r'[^\\w\\s]', '', res_text)\n",
    "\n",
    "    return res_text"
   ]
  },
  {
   "cell_type": "code",
   "execution_count": 4,
   "metadata": {},
   "outputs": [],
   "source": [
    "\n",
    "cleaned_text = [clean_text(df.iloc[i]['text']) for i in range(len(df))]\n",
    "df['cleaned_text'] = cleaned_text"
   ]
  },
  {
   "cell_type": "code",
   "execution_count": 5,
   "metadata": {},
   "outputs": [],
   "source": [
    "\n",
    "from sklearn.feature_extraction.text import TfidfVectorizer\n",
    "from sklearn.model_selection import cross_val_score, KFold\n",
    "\n",
    "tfidf = TfidfVectorizer(ngram_range=(2,2), max_df=0.8)\n",
    "X = df['cleaned_text'].values.tolist()\n",
    "Y = df['origin'].values.tolist()\n",
    "tfidf_X = tfidf.fit_transform(X)\n"
   ]
  },
  {
   "cell_type": "code",
   "execution_count": 6,
   "metadata": {},
   "outputs": [],
   "source": [
    "# Utilisation du modèle SVM\n",
    "from sklearn.svm import SVC\n",
    "classifier = SVC(kernel = 'linear', random_state = 29)"
   ]
  },
  {
   "cell_type": "code",
   "execution_count": 7,
   "metadata": {},
   "outputs": [],
   "source": [
    "# KFold cross validation\n",
    "K_folds = KFold(n_splits=10)"
   ]
  },
  {
   "cell_type": "code",
   "execution_count": 8,
   "metadata": {},
   "outputs": [],
   "source": [
    "\n",
    "scores = cross_val_score(classifier, tfidf_X, Y, cv=K_folds)"
   ]
  },
  {
   "cell_type": "code",
   "execution_count": 9,
   "metadata": {},
   "outputs": [
    {
     "name": "stdout",
     "output_type": "stream",
     "text": [
      "Cross Validation Scores:  [0.68989899 0.72525253 0.72424242 0.71515152 0.71717172 0.72525253\n",
      " 0.72121212 0.73737374 0.73333333 0.72121212]\n",
      "Average CV Score:  0.721010101010101\n",
      "Number of CV Scores used in Average:  10\n"
     ]
    }
   ],
   "source": [
    "\n",
    "print(\"Cross Validation Scores: \", scores)\n",
    "print(\"Average CV Score: \", scores.mean())\n",
    "print(\"Number of CV Scores used in Average: \", len(scores)) "
   ]
  },
  {
   "attachments": {},
   "cell_type": "markdown",
   "metadata": {},
   "source": [
    "NAIVE BAYES"
   ]
  },
  {
   "cell_type": "code",
   "execution_count": 21,
   "metadata": {},
   "outputs": [
    {
     "data": {
      "text/plain": [
       "GaussianNB()"
      ]
     },
     "execution_count": 21,
     "metadata": {},
     "output_type": "execute_result"
    }
   ],
   "source": [
    "from sklearn.naive_bayes import GaussianNB\n",
    "\n",
    "X = df['cleaned_text'].values.tolist()\n",
    "Y = df['origin'].values.tolist()\n",
    "tf = TfidfVectorizer(max_df=0.8, ngram_range=(2,2))\n",
    "tf_X = tf.fit_transform(X)\n",
    "X_train, X_test, y_train, y_test = train_test_split(X,Y, test_size=0.2, random_state=29)\n",
    "tf_train = tf.transform(X_train)\n",
    "tf_test = tf.transform(X_test)\n",
    "\n",
    "clf = GaussianNB()\n",
    "clf.fit(tf_train.toarray(), y_train)\n"
   ]
  },
  {
   "cell_type": "code",
   "execution_count": 22,
   "metadata": {},
   "outputs": [],
   "source": [
    "nb_y_pred = clf.predict(tf_test.toarray())"
   ]
  },
  {
   "cell_type": "code",
   "execution_count": 23,
   "metadata": {},
   "outputs": [
    {
     "name": "stdout",
     "output_type": "stream",
     "text": [
      "Naive Bayes TF IDF Embedding\n",
      "accuracy :  0.40555555555555556\n",
      "f1_score :  0.40388955339368027\n",
      "precision score :  0.4239375565869525\n"
     ]
    }
   ],
   "source": [
    "print(\"Naive Bayes TF IDF Embedding\")\n",
    "print('accuracy : ', metrics.accuracy_score(y_test, nb_y_pred))\n",
    "print('f1_score : ', metrics.f1_score(y_test, nb_y_pred, average='macro'))\n",
    "print('precision score : ', metrics.precision_score(y_test, nb_y_pred, average= 'macro'))"
   ]
  },
  {
   "attachments": {},
   "cell_type": "markdown",
   "metadata": {},
   "source": [
    "RNN\n"
   ]
  },
  {
   "cell_type": "code",
   "execution_count": 14,
   "metadata": {},
   "outputs": [],
   "source": [
    "import tensorflow\n",
    "from tensorflow.keras.models import Sequential\n",
    "from tensorflow.keras.layers import Dense, Dropout, LSTM\n",
    "\n"
   ]
  },
  {
   "cell_type": "code",
   "execution_count": 15,
   "metadata": {},
   "outputs": [],
   "source": [
    "X = df['cleaned_text'].values.tolist()\n",
    "Y = df['origin'].values.tolist()\n",
    "tf = TfidfVectorizer()\n",
    "tf_X = tf.fit_transform(X)\n",
    "X_train, X_test, y_train, y_test = train_test_split(X,Y, test_size=0.2, random_state=29)\n",
    "tf_train = tf.transform(X_train)\n",
    "tf_test = tf.transform(X_test)\n"
   ]
  },
  {
   "cell_type": "code",
   "execution_count": 16,
   "metadata": {},
   "outputs": [],
   "source": [
    "tf_train = tf_train.toarray()\n",
    "y_train = np.array(y_train)\n",
    "tf_test = tf_test.toarray()\n",
    "y_test = np.array(y_test)\n"
   ]
  },
  {
   "cell_type": "code",
   "execution_count": 17,
   "metadata": {},
   "outputs": [
    {
     "data": {
      "text/plain": [
       "7920"
      ]
     },
     "execution_count": 17,
     "metadata": {},
     "output_type": "execute_result"
    }
   ],
   "source": [
    "np.shape(tf_train)[0]"
   ]
  },
  {
   "cell_type": "code",
   "execution_count": 22,
   "metadata": {},
   "outputs": [],
   "source": [
    "model = Sequential()\n",
    "\n",
    "model.add(LSTM(128,input_shape=(np.shape(tf_train) ), activation='relu', return_sequences=True))\n",
    "model.add(Dropout(0.2))\n",
    "\n",
    "model.add(LSTM(128, activation='relu'))\n",
    "model.add(Dropout(0.2))\n",
    "\n",
    "model.add(Dense(32, activation='relu'))\n",
    "model.add(Dropout(0.2))\n",
    "\n",
    "model.add(Dense(11, activation='softmax'))"
   ]
  },
  {
   "cell_type": "code",
   "execution_count": 23,
   "metadata": {},
   "outputs": [],
   "source": [
    "opt = tensorflow.keras.optimizers.legacy.Adam(learning_rate=1e-3, decay=1e-5)\n",
    "model.compile(loss='sparse_categorical_crossentropy',\n",
    "              optimizer=opt,\n",
    "              metrics=['accuracy'])"
   ]
  },
  {
   "cell_type": "code",
   "execution_count": 24,
   "metadata": {},
   "outputs": [
    {
     "name": "stdout",
     "output_type": "stream",
     "text": [
      "Epoch 1/3\n"
     ]
    },
    {
     "ename": "ValueError",
     "evalue": "in user code:\n\n    File \"c:\\Python39\\lib\\site-packages\\keras\\engine\\training.py\", line 1249, in train_function  *\n        return step_function(self, iterator)\n    File \"c:\\Python39\\lib\\site-packages\\keras\\engine\\training.py\", line 1233, in step_function  **\n        outputs = model.distribute_strategy.run(run_step, args=(data,))\n    File \"c:\\Python39\\lib\\site-packages\\keras\\engine\\training.py\", line 1222, in run_step  **\n        outputs = model.train_step(data)\n    File \"c:\\Python39\\lib\\site-packages\\keras\\engine\\training.py\", line 1023, in train_step\n        y_pred = self(x, training=True)\n    File \"c:\\Python39\\lib\\site-packages\\keras\\utils\\traceback_utils.py\", line 70, in error_handler\n        raise e.with_traceback(filtered_tb) from None\n    File \"c:\\Python39\\lib\\site-packages\\keras\\engine\\input_spec.py\", line 295, in assert_input_compatibility\n        raise ValueError(\n\n    ValueError: Input 0 of layer \"sequential_3\" is incompatible with the layer: expected shape=(None, 7920, 53814), found shape=(None, 53814)\n",
     "output_type": "error",
     "traceback": [
      "\u001b[1;31m---------------------------------------------------------------------------\u001b[0m",
      "\u001b[1;31mValueError\u001b[0m                                Traceback (most recent call last)",
      "\u001b[1;32m~\\AppData\\Local\\Temp/ipykernel_1196/2336666247.py\u001b[0m in \u001b[0;36m<module>\u001b[1;34m\u001b[0m\n\u001b[0;32m      1\u001b[0m \u001b[1;31m# Cette cellule contient une erreur\u001b[0m\u001b[1;33m\u001b[0m\u001b[1;33m\u001b[0m\u001b[0m\n\u001b[0;32m      2\u001b[0m \u001b[1;33m\u001b[0m\u001b[0m\n\u001b[1;32m----> 3\u001b[1;33m \u001b[0mmodel\u001b[0m\u001b[1;33m.\u001b[0m\u001b[0mfit\u001b[0m\u001b[1;33m(\u001b[0m\u001b[0mtf_train\u001b[0m\u001b[1;33m,\u001b[0m \u001b[0my_train\u001b[0m\u001b[1;33m,\u001b[0m \u001b[0mepochs\u001b[0m\u001b[1;33m=\u001b[0m \u001b[1;36m3\u001b[0m\u001b[1;33m,\u001b[0m \u001b[0mvalidation_data\u001b[0m\u001b[1;33m=\u001b[0m\u001b[1;33m(\u001b[0m\u001b[0mtf_test\u001b[0m\u001b[1;33m,\u001b[0m \u001b[0my_test\u001b[0m\u001b[1;33m)\u001b[0m \u001b[1;33m)\u001b[0m\u001b[1;33m\u001b[0m\u001b[1;33m\u001b[0m\u001b[0m\n\u001b[0m",
      "\u001b[1;32mc:\\Python39\\lib\\site-packages\\keras\\utils\\traceback_utils.py\u001b[0m in \u001b[0;36merror_handler\u001b[1;34m(*args, **kwargs)\u001b[0m\n\u001b[0;32m     68\u001b[0m             \u001b[1;31m# To get the full stack trace, call:\u001b[0m\u001b[1;33m\u001b[0m\u001b[1;33m\u001b[0m\u001b[0m\n\u001b[0;32m     69\u001b[0m             \u001b[1;31m# `tf.debugging.disable_traceback_filtering()`\u001b[0m\u001b[1;33m\u001b[0m\u001b[1;33m\u001b[0m\u001b[0m\n\u001b[1;32m---> 70\u001b[1;33m             \u001b[1;32mraise\u001b[0m \u001b[0me\u001b[0m\u001b[1;33m.\u001b[0m\u001b[0mwith_traceback\u001b[0m\u001b[1;33m(\u001b[0m\u001b[0mfiltered_tb\u001b[0m\u001b[1;33m)\u001b[0m \u001b[1;32mfrom\u001b[0m \u001b[1;32mNone\u001b[0m\u001b[1;33m\u001b[0m\u001b[1;33m\u001b[0m\u001b[0m\n\u001b[0m\u001b[0;32m     71\u001b[0m         \u001b[1;32mfinally\u001b[0m\u001b[1;33m:\u001b[0m\u001b[1;33m\u001b[0m\u001b[1;33m\u001b[0m\u001b[0m\n\u001b[0;32m     72\u001b[0m             \u001b[1;32mdel\u001b[0m \u001b[0mfiltered_tb\u001b[0m\u001b[1;33m\u001b[0m\u001b[1;33m\u001b[0m\u001b[0m\n",
      "\u001b[1;32mc:\\Python39\\lib\\site-packages\\keras\\engine\\training.py\u001b[0m in \u001b[0;36mtf__train_function\u001b[1;34m(iterator)\u001b[0m\n\u001b[0;32m     13\u001b[0m                 \u001b[1;32mtry\u001b[0m\u001b[1;33m:\u001b[0m\u001b[1;33m\u001b[0m\u001b[1;33m\u001b[0m\u001b[0m\n\u001b[0;32m     14\u001b[0m                     \u001b[0mdo_return\u001b[0m \u001b[1;33m=\u001b[0m \u001b[1;32mTrue\u001b[0m\u001b[1;33m\u001b[0m\u001b[1;33m\u001b[0m\u001b[0m\n\u001b[1;32m---> 15\u001b[1;33m                     \u001b[0mretval_\u001b[0m \u001b[1;33m=\u001b[0m \u001b[0mag__\u001b[0m\u001b[1;33m.\u001b[0m\u001b[0mconverted_call\u001b[0m\u001b[1;33m(\u001b[0m\u001b[0mag__\u001b[0m\u001b[1;33m.\u001b[0m\u001b[0mld\u001b[0m\u001b[1;33m(\u001b[0m\u001b[0mstep_function\u001b[0m\u001b[1;33m)\u001b[0m\u001b[1;33m,\u001b[0m \u001b[1;33m(\u001b[0m\u001b[0mag__\u001b[0m\u001b[1;33m.\u001b[0m\u001b[0mld\u001b[0m\u001b[1;33m(\u001b[0m\u001b[0mself\u001b[0m\u001b[1;33m)\u001b[0m\u001b[1;33m,\u001b[0m \u001b[0mag__\u001b[0m\u001b[1;33m.\u001b[0m\u001b[0mld\u001b[0m\u001b[1;33m(\u001b[0m\u001b[0miterator\u001b[0m\u001b[1;33m)\u001b[0m\u001b[1;33m)\u001b[0m\u001b[1;33m,\u001b[0m \u001b[1;32mNone\u001b[0m\u001b[1;33m,\u001b[0m \u001b[0mfscope\u001b[0m\u001b[1;33m)\u001b[0m\u001b[1;33m\u001b[0m\u001b[1;33m\u001b[0m\u001b[0m\n\u001b[0m\u001b[0;32m     16\u001b[0m                 \u001b[1;32mexcept\u001b[0m\u001b[1;33m:\u001b[0m\u001b[1;33m\u001b[0m\u001b[1;33m\u001b[0m\u001b[0m\n\u001b[0;32m     17\u001b[0m                     \u001b[0mdo_return\u001b[0m \u001b[1;33m=\u001b[0m \u001b[1;32mFalse\u001b[0m\u001b[1;33m\u001b[0m\u001b[1;33m\u001b[0m\u001b[0m\n",
      "\u001b[1;31mValueError\u001b[0m: in user code:\n\n    File \"c:\\Python39\\lib\\site-packages\\keras\\engine\\training.py\", line 1249, in train_function  *\n        return step_function(self, iterator)\n    File \"c:\\Python39\\lib\\site-packages\\keras\\engine\\training.py\", line 1233, in step_function  **\n        outputs = model.distribute_strategy.run(run_step, args=(data,))\n    File \"c:\\Python39\\lib\\site-packages\\keras\\engine\\training.py\", line 1222, in run_step  **\n        outputs = model.train_step(data)\n    File \"c:\\Python39\\lib\\site-packages\\keras\\engine\\training.py\", line 1023, in train_step\n        y_pred = self(x, training=True)\n    File \"c:\\Python39\\lib\\site-packages\\keras\\utils\\traceback_utils.py\", line 70, in error_handler\n        raise e.with_traceback(filtered_tb) from None\n    File \"c:\\Python39\\lib\\site-packages\\keras\\engine\\input_spec.py\", line 295, in assert_input_compatibility\n        raise ValueError(\n\n    ValueError: Input 0 of layer \"sequential_3\" is incompatible with the layer: expected shape=(None, 7920, 53814), found shape=(None, 53814)\n"
     ]
    }
   ],
   "source": [
    "# Cette cellule contient une erreur \n",
    "\n",
    "model.fit(tf_train, y_train, epochs= 3, validation_data=(tf_test, y_test) )"
   ]
  },
  {
   "attachments": {},
   "cell_type": "markdown",
   "metadata": {},
   "source": [
    "MODELES EN CASCADE \\\n",
    "Restart kernel"
   ]
  },
  {
   "cell_type": "code",
   "execution_count": 39,
   "metadata": {},
   "outputs": [],
   "source": [
    "# Bibliothèques utilisées\n",
    "\n",
    "import numpy as np\n",
    "import pandas as pd\n",
    "from matplotlib import pyplot\n",
    "import seaborn as sns\n",
    "import re\n",
    "import csv\n",
    "from sklearn.feature_extraction.text import TfidfVectorizer\n",
    "from sklearn.model_selection import train_test_split\n",
    "from sklearn.svm import SVC\n",
    "from sklearn.model_selection import cross_val_score, KFold\n",
    "import random"
   ]
  },
  {
   "cell_type": "code",
   "execution_count": 26,
   "metadata": {},
   "outputs": [],
   "source": [
    "# Modification du fichier pour avoir le format voulu\n",
    "\n",
    "with open('train.txt') as file:\n",
    "    lines = file.readlines()\n",
    "    with open('train.txt', \"w\") as file:\n",
    "        for line in lines:\n",
    "            file.write(re.sub(r\"\\(([A-Z]+)\\) (.+)\", r'\\1;\"\\2\"', line))"
   ]
  },
  {
   "cell_type": "code",
   "execution_count": 27,
   "metadata": {},
   "outputs": [],
   "source": [
    "# Upload du fichier\n",
    "df = pd.read_table(\"train.txt\", sep=\";\", names=[\"origin\",\"text\"])"
   ]
  },
  {
   "cell_type": "code",
   "execution_count": 28,
   "metadata": {},
   "outputs": [],
   "source": [
    "#Preprocessing\n",
    "# Bibliothèques à utiliser\n",
    "import contractions\n",
    "\n",
    "def clean_text(text):\n",
    "    \n",
    "    #lowercase\n",
    "    res_text = text.lower()\n",
    "    #contactions\n",
    "    res_text = contractions.fix(res_text)\n",
    "    #remove punctuation\n",
    "    res_text = re.sub(r'[^\\w\\s]', '', res_text)\n",
    "\n",
    "    return res_text"
   ]
  },
  {
   "cell_type": "code",
   "execution_count": 29,
   "metadata": {},
   "outputs": [],
   "source": [
    "cleaned_text = [clean_text(df.iloc[i]['text']) for i in range(len(df))]\n",
    "df['cleaned_text'] = cleaned_text"
   ]
  },
  {
   "cell_type": "code",
   "execution_count": 31,
   "metadata": {},
   "outputs": [],
   "source": [
    "tfidf = TfidfVectorizer(ngram_range=(2,2), max_df= 0.8)\n",
    "X = df['cleaned_text'].values.tolist()\n",
    "Y = df['origin'].values.tolist()\n",
    "tfidf_X = tfidf.fit_transform(X)\n",
    "X_train, X_test, y_train, y_test = train_test_split(X,Y, test_size=0.2, random_state=29)\n",
    "\n",
    "\n",
    "tfidf_train = tfidf.transform(X_train)\n",
    "tfidf_test = tfidf.transform(X_test)"
   ]
  },
  {
   "cell_type": "code",
   "execution_count": 7,
   "metadata": {},
   "outputs": [],
   "source": [
    "# SVM\n",
    "\n",
    "# Utilisation du modèle SVM\n",
    "\n",
    "classifier = SVC(kernel = 'linear', random_state = 29)\n",
    "classifier.fit(tfidf_train, y_train)\n",
    "#Prediction sur le Test set\n",
    "y_pred = classifier.predict(tfidf_test)"
   ]
  },
  {
   "cell_type": "code",
   "execution_count": 8,
   "metadata": {},
   "outputs": [
    {
     "name": "stdout",
     "output_type": "stream",
     "text": [
      "SVM with BiGram TF IDF Embedding\n",
      "accuracy :  0.7156565656565657\n",
      "f1_score :  0.7167747347459575\n",
      "precision score :  0.7224884765980538\n"
     ]
    }
   ],
   "source": [
    "from sklearn import metrics\n",
    "print(\"SVM with BiGram TF IDF Embedding\")\n",
    "print('accuracy : ', metrics.accuracy_score(y_test, y_pred))\n",
    "print('f1_score : ', metrics.f1_score(y_test, y_pred, average='macro'))\n",
    "print('precision score : ', metrics.precision_score(y_test, y_pred, average= 'macro'))"
   ]
  },
  {
   "cell_type": "code",
   "execution_count": 38,
   "metadata": {},
   "outputs": [],
   "source": [
    "# Changement de labels\n",
    "\n",
    "# Réunir les langues qui font partie de la même famille\n",
    "# Faire une matrice de confusion pour voir les similarité\n",
    "\n",
    "from sklearn.metrics import confusion_matrix, ConfusionMatrixDisplay\n",
    "cm = confusion_matrix(y_test, y_pred, labels=classifier.classes_)"
   ]
  },
  {
   "cell_type": "code",
   "execution_count": 39,
   "metadata": {},
   "outputs": [
    {
     "data": {
      "text/plain": [
       "<sklearn.metrics._plot.confusion_matrix.ConfusionMatrixDisplay at 0x21be427a910>"
      ]
     },
     "execution_count": 39,
     "metadata": {},
     "output_type": "execute_result"
    },
    {
     "data": {
      "image/png": "[encoded data removed]",
      "text/plain": [
       "<Figure size 432x288 with 2 Axes>"
      ]
     },
     "metadata": {
      "needs_background": "light"
     },
     "output_type": "display_data"
    }
   ],
   "source": [
    "cm_disp = ConfusionMatrixDisplay(confusion_matrix=cm, display_labels=classifier.classes_)\n",
    "\n",
    "cm_disp.plot()"
   ]
  },
  {
   "cell_type": "code",
   "execution_count": 32,
   "metadata": {},
   "outputs": [],
   "source": [
    "def language_family(lang):\n",
    "    if lang == 'HIN' or lang =='TEL':\n",
    "        return 'HIN/TEL'\n",
    "    if lang == 'CHI' or lang == 'JPN' or lang == 'KOR':\n",
    "        return 'CHI/JPN/KOR'\n",
    "    if lang == 'SPA' or lang == 'ITA' or lang == 'FRE' or lang == 'GER':\n",
    "        return 'FRE/GER/SPA/ITA'\n",
    "    #ARA or TUR\n",
    "    return 'ARA/TUR'\n",
    "    "
   ]
  },
  {
   "cell_type": "code",
   "execution_count": 33,
   "metadata": {},
   "outputs": [],
   "source": [
    "family = [language_family(df.iloc[i]['origin']) for i in range(len(df))]\n",
    "df['family'] = family"
   ]
  },
  {
   "cell_type": "code",
   "execution_count": 34,
   "metadata": {},
   "outputs": [
    {
     "data": {
      "text/html": [
       "<div>\n",
       "<style scoped>\n",
       "    .dataframe tbody tr th:only-of-type {\n",
       "        vertical-align: middle;\n",
       "    }\n",
       "\n",
       "    .dataframe tbody tr th {\n",
       "        vertical-align: top;\n",
       "    }\n",
       "\n",
       "    .dataframe thead th {\n",
       "        text-align: right;\n",
       "    }\n",
       "</style>\n",
       "<table border=\"1\" class=\"dataframe\">\n",
       "  <thead>\n",
       "    <tr style=\"text-align: right;\">\n",
       "      <th></th>\n",
       "      <th>origin</th>\n",
       "      <th>text</th>\n",
       "      <th>cleaned_text</th>\n",
       "      <th>family</th>\n",
       "    </tr>\n",
       "  </thead>\n",
       "  <tbody>\n",
       "    <tr>\n",
       "      <th>0</th>\n",
       "      <td>GER</td>\n",
       "      <td>IThe importance and popularity of travelling i...</td>\n",
       "      <td>ithe importance and popularity of travelling i...</td>\n",
       "      <td>FRE/GER/SPA/ITA</td>\n",
       "    </tr>\n",
       "    <tr>\n",
       "      <th>1</th>\n",
       "      <td>TUR</td>\n",
       "      <td>It is an important decision , how to plan your...</td>\n",
       "      <td>it is an important decision  how to plan your ...</td>\n",
       "      <td>ARA/TUR</td>\n",
       "    </tr>\n",
       "    <tr>\n",
       "      <th>2</th>\n",
       "      <td>CHI</td>\n",
       "      <td>Some people believe that young people can enjo...</td>\n",
       "      <td>some people believe that young people can enjo...</td>\n",
       "      <td>CHI/JPN/KOR</td>\n",
       "    </tr>\n",
       "    <tr>\n",
       "      <th>3</th>\n",
       "      <td>TEL</td>\n",
       "      <td>Travelling is usually considered as good recre...</td>\n",
       "      <td>travelling is usually considered as good recre...</td>\n",
       "      <td>HIN/TEL</td>\n",
       "    </tr>\n",
       "    <tr>\n",
       "      <th>4</th>\n",
       "      <td>ARA</td>\n",
       "      <td>i agree that . Life is a person live period of...</td>\n",
       "      <td>i agree that  life is a person live period of ...</td>\n",
       "      <td>ARA/TUR</td>\n",
       "    </tr>\n",
       "  </tbody>\n",
       "</table>\n",
       "</div>"
      ],
      "text/plain": [
       "  origin                                               text  \\\n",
       "0    GER  IThe importance and popularity of travelling i...   \n",
       "1    TUR  It is an important decision , how to plan your...   \n",
       "2    CHI  Some people believe that young people can enjo...   \n",
       "3    TEL  Travelling is usually considered as good recre...   \n",
       "4    ARA  i agree that . Life is a person live period of...   \n",
       "\n",
       "                                        cleaned_text           family  \n",
       "0  ithe importance and popularity of travelling i...  FRE/GER/SPA/ITA  \n",
       "1  it is an important decision  how to plan your ...          ARA/TUR  \n",
       "2  some people believe that young people can enjo...      CHI/JPN/KOR  \n",
       "3  travelling is usually considered as good recre...          HIN/TEL  \n",
       "4  i agree that  life is a person live period of ...          ARA/TUR  "
      ]
     },
     "execution_count": 34,
     "metadata": {},
     "output_type": "execute_result"
    }
   ],
   "source": [
    "df.head()"
   ]
  },
  {
   "cell_type": "code",
   "execution_count": 35,
   "metadata": {},
   "outputs": [],
   "source": [
    "# 1er modele\n",
    "# Testons notre SVM avec BiGram Tf idf pour ce problème\n",
    "\n",
    "tfidf_1 = TfidfVectorizer(ngram_range=(2,2), max_df=0.8)\n",
    "X = df['cleaned_text'].values.tolist()\n",
    "y_family = df['family'].values.tolist()\n",
    "tfidf_1_X = tfidf_1.fit_transform(X)\n",
    "X_train, X_test, y_family_train, y_family_test = train_test_split(X,y_family, test_size=0.2, random_state=29)\n",
    "\n",
    "tfidf_1_train = tfidf_1.transform(X_train)\n",
    "tfidf_1_test = tfidf_1.transform(X_test)"
   ]
  },
  {
   "cell_type": "code",
   "execution_count": 36,
   "metadata": {},
   "outputs": [],
   "source": [
    "classifier = SVC(kernel = 'linear', random_state = 29)\n",
    "classifier.fit(tfidf_1_train, y_family_train)\n",
    "#Prediction sur le Test set\n",
    "y_pred_family = classifier.predict(tfidf_1_test)"
   ]
  },
  {
   "cell_type": "code",
   "execution_count": 37,
   "metadata": {},
   "outputs": [
    {
     "name": "stdout",
     "output_type": "stream",
     "text": [
      "SVM Model 1 with BiGram TF IDF Embedding\n",
      "accuracy :  0.8621212121212121\n",
      "f1_score :  0.8463468390633471\n",
      "precision score :  0.87595112439363\n"
     ]
    }
   ],
   "source": [
    "from sklearn import metrics\n",
    "print(\"SVM Model 1 with BiGram TF IDF Embedding\")\n",
    "print('accuracy : ', metrics.accuracy_score(y_family_test, y_pred_family))\n",
    "print('f1_score : ', metrics.f1_score(y_family_test, y_pred_family, average='macro'))\n",
    "print('precision score : ', metrics.precision_score(y_family_test, y_pred_family, average= 'macro'))"
   ]
  },
  {
   "cell_type": "code",
   "execution_count": null,
   "metadata": {},
   "outputs": [],
   "source": [
    "# Testons le 1er modèle par cross validation\n",
    "\n",
    "tfidf_1 = TfidfVectorizer(ngram_range=(2,2), max_df=0.8)\n",
    "X = df['cleaned_text'].values.tolist()\n",
    "y_family = df['family'].values.tolist()\n",
    "tfidf_1_X = tfidf_1.fit_transform(X)\n",
    "\n",
    "from sklearn.svm import SVC\n",
    "classifier = SVC(kernel = 'linear', random_state = 29)\n",
    "K_folds = KFold(n_splits=10)\n",
    "scores = cross_val_score(classifier, tfidf_X, Y, cv=K_folds)\n",
    "print(\"Cross Validation Scores: \", scores)\n",
    "print(\"Average CV Score: \", scores.mean())\n",
    "print(\"Number of CV Scores used in Average: \", len(scores)) "
   ]
  },
  {
   "cell_type": "code",
   "execution_count": 171,
   "metadata": {},
   "outputs": [],
   "source": [
    "# Deuxieme modele\n",
    "#SVM TF IDF Bi Gram\n",
    "# Nous aurons 4 modèles (car 4 familles)\n",
    "\n",
    "X_hl_train = []\n",
    "X_fgsi_train = []\n",
    "X_at_train = []\n",
    "X_cjk_train = []\n",
    "\n",
    "y_hl_train = [] \n",
    "y_fgsi_train = []\n",
    "y_at_train = []\n",
    "y_cjk_train = []\n",
    "\n",
    "def create_train_sets_model2(X, y):\n",
    "    \n",
    "    for i in range(len(y)):\n",
    "        if y[i] == 'HIN/TEL':\n",
    "            X_hl_train.append(X[i])\n",
    "            txt = X[i]\n",
    "            idx = df.query('cleaned_text ==@txt')['origin'].index.values\n",
    "            y_hl_train.append(df['origin'][idx[0]])\n",
    "        elif y[i] == 'CHI/JPN/KOR':\n",
    "            X_cjk_train.append(X[i])\n",
    "            txt = X[i]\n",
    "            idx = df.query('cleaned_text ==@txt')['origin'].index.values\n",
    "            y_cjk_train.append(df['origin'][idx[0]])\n",
    "        elif y[i] == 'FRE/GER/SPA/ITA':\n",
    "            X_fgsi_train.append(X[i])\n",
    "            txt = X[i]\n",
    "            idx = df.query('cleaned_text ==@txt')['origin'].index.values\n",
    "            y_fgsi_train.append(df['origin'][idx[0]])\n",
    "        else:\n",
    "            X_at_train.append(X[i])\n",
    "            txt = X[i]\n",
    "            idx = df.query('cleaned_text ==@txt')['origin'].index.values\n",
    "            y_at_train.append(df['origin'][idx[0]])\n",
    "    \n",
    "    i = 0        \n",
    "    while i in range(int(len(y_hl_train )/ 2)):\n",
    "        rdx = random.randrange(len(y))\n",
    "        if y[rdx] != 'HIN/TEL':\n",
    "            X_hl_train.append(df['cleaned_text'][rdx])\n",
    "            y_hl_train.append('UNK')\n",
    "            i = i + 1\n",
    "            \n",
    "    i = 0 \n",
    "    while i in range(int(len(y_cjk_train )/ 3)):\n",
    "        rdx = random.randrange(len(y))\n",
    "        if y[rdx] != 'CHI/JPN/KOR':\n",
    "            X_cjk_train.append(df['cleaned_text'][rdx])\n",
    "            y_cjk_train.append('UNK')\n",
    "            i = i + 1\n",
    "            \n",
    "    i = 0 \n",
    "    while i in range(int(len(y_at_train) / 2)):\n",
    "        rdx = random.randrange(len(y))\n",
    "        if y[rdx] != 'ARA/TUR':\n",
    "            X_at_train.append(df['cleaned_text'][rdx])\n",
    "            y_at_train.append('UNK')\n",
    "            i = i + 1\n",
    "            \n",
    "    i = 0 \n",
    "    while i in range(int(len(y_fgsi_train )/ 4)):\n",
    "        rdx = random.randrange(len(y))\n",
    "        if y[rdx] != 'FRE/GER/SPA/ITA':\n",
    "            X_fgsi_train.append(df['cleaned_text'][rdx])\n",
    "            y_fgsi_train.append('UNK')\n",
    "            i = i + 1\n",
    "    \n",
    "    "
   ]
  },
  {
   "cell_type": "code",
   "execution_count": 172,
   "metadata": {},
   "outputs": [],
   "source": [
    "X_hl_test = []\n",
    "X_fgsi_test = []\n",
    "X_at_test = []\n",
    "X_cjk_test = []\n",
    "y_hl_test = [] \n",
    "y_fgsi_test = []\n",
    "y_at_test = []\n",
    "y_cjk_test = []\n",
    "\n",
    "\n",
    "def create_test_sets_model2(X, y):\n",
    "    \n",
    "    \n",
    "    for i in range(len(y)):\n",
    "        if y[i] == 'HIN/TEL':\n",
    "            X_hl_test.append(X[i])\n",
    "            txt = X[i]\n",
    "            idx = df.query('cleaned_text ==@txt')['origin'].index.values\n",
    "            y_hl_test.append(df['origin'][idx[0]])\n",
    "        elif y[i] == 'CHI/JPN/KOR':\n",
    "            X_cjk_test.append(X[i])\n",
    "            txt = X[i]\n",
    "            idx = df.query('cleaned_text ==@txt')['origin'].index.values\n",
    "            y_cjk_test.append(df['origin'][idx[0]])\n",
    "        elif y[i] == 'FRE/GER/SPA/ITA':\n",
    "            X_fgsi_test.append(X[i])\n",
    "            txt = X[i]\n",
    "            idx = df.query('cleaned_text ==@txt')['origin'].index.values\n",
    "            y_fgsi_test.append(df['origin'][idx[0]])\n",
    "        else:\n",
    "            X_at_test.append(X[i])\n",
    "            txt = X[i]\n",
    "            idx = df.query('cleaned_text ==@txt')['origin'].index.values\n",
    "            y_at_test.append(df['origin'][idx[0]])\n",
    "            \n",
    "    i = 0        \n",
    "    while i in range(int(len(y_hl_test)/ 2)):\n",
    "        rdx = random.randrange(len(y))\n",
    "        if y[rdx] != 'HIN/TEL':\n",
    "            X_hl_test.append(df['cleaned_text'][rdx])\n",
    "            y_hl_test.append('UNK')\n",
    "            i = i + 1\n",
    "            \n",
    "    i = 0 \n",
    "    while i in range(int(len(y_cjk_test )/ 3)):\n",
    "        rdx = random.randrange(len(y))\n",
    "        if y[rdx] != 'CHI/JPN/KOR':\n",
    "            X_cjk_test.append(df['cleaned_text'][rdx])\n",
    "            y_cjk_test.append('UNK')\n",
    "            i = i + 1\n",
    "            \n",
    "    i = 0 \n",
    "    while i in range(int(len(y_at_test )/ 2)):\n",
    "        rdx = random.randrange(len(y))\n",
    "        if y[rdx] != 'ARA/TUR':\n",
    "            X_at_test.append(df['cleaned_text'][rdx])\n",
    "            y_at_test.append('UNK')\n",
    "            i = i + 1\n",
    "            \n",
    "    i = 0 \n",
    "    while i in range(int(len(y_fgsi_test )/ 4)):\n",
    "        rdx = random.randrange(len(y))\n",
    "        if y[rdx] != 'FRE/GER/SPA/ITA':\n",
    "            X_fgsi_test.append(df['cleaned_text'][rdx])\n",
    "            y_fgsi_test.append('UNK')\n",
    "            i = i + 1\n",
    "    "
   ]
  },
  {
   "cell_type": "code",
   "execution_count": 173,
   "metadata": {},
   "outputs": [],
   "source": [
    "# Création des datasets des 4 sous modèles \n",
    "create_train_sets_model2(X_train, y_family_train)\n",
    "create_test_sets_model2(X_test, y_pred_family)"
   ]
  },
  {
   "cell_type": "code",
   "execution_count": 175,
   "metadata": {},
   "outputs": [],
   "source": [
    "# On entraine et on test les 4 sous modèles\n",
    "\n",
    "# Model Hindi Telugu\n",
    "tfidf = TfidfVectorizer(ngram_range=(2,2), max_df= 0.8)\n",
    "X = X_hl_train + X_hl_test\n",
    "tfidf_X = tfidf.fit_transform(X)\n",
    "tfidf_train = tfidf.transform(X_hl_train)\n",
    "tfidf_test = tfidf.transform(X_hl_test)\n"
   ]
  },
  {
   "cell_type": "code",
   "execution_count": 176,
   "metadata": {},
   "outputs": [],
   "source": [
    "\n",
    "classifier = SVC(kernel = 'linear', random_state = 29)\n",
    "classifier.fit(tfidf_train, y_hl_train)\n",
    "#Prediction sur le Test set\n",
    "y_pred_hl = classifier.predict(tfidf_test)"
   ]
  },
  {
   "cell_type": "code",
   "execution_count": 177,
   "metadata": {},
   "outputs": [
    {
     "name": "stdout",
     "output_type": "stream",
     "text": [
      "SVM Model 2 Telugu Hindi with BiGram TF IDF Embedding\n",
      "accuracy :  0.6909361069836553\n",
      "f1_score :  0.19942206131464443\n",
      "precision score :  0.19996170158441964\n"
     ]
    },
    {
     "name": "stderr",
     "output_type": "stream",
     "text": [
      "c:\\Python39\\lib\\site-packages\\sklearn\\metrics\\_classification.py:1248: UndefinedMetricWarning: Precision is ill-defined and being set to 0.0 in labels with no predicted samples. Use `zero_division` parameter to control this behavior.\n",
      "  _warn_prf(average, modifier, msg_start, len(result))\n"
     ]
    }
   ],
   "source": [
    "from sklearn import metrics\n",
    "print(\"SVM Model 2 Telugu Hindi with BiGram TF IDF Embedding\")\n",
    "print('accuracy : ', metrics.accuracy_score(y_hl_test, y_pred_hl))\n",
    "print('f1_score : ', metrics.f1_score(y_hl_test, y_pred_hl, average='macro'))\n",
    "print('precision score : ', metrics.precision_score(y_hl_test, y_pred_hl, average= 'macro'))"
   ]
  },
  {
   "cell_type": "code",
   "execution_count": 178,
   "metadata": {},
   "outputs": [],
   "source": [
    "# Model Arabe turque\n",
    "tfidf = TfidfVectorizer(ngram_range=(2,2), max_df= 0.8)\n",
    "X = X_at_train + X_at_test\n",
    "tfidf_X = tfidf.fit_transform(X)\n",
    "tfidf_train = tfidf.transform(X_at_train)\n",
    "tfidf_test = tfidf.transform(X_at_test)\n",
    "classifier = SVC(kernel = 'linear', random_state = 29)\n",
    "classifier.fit(tfidf_train, y_at_train)\n",
    "#Prediction sur le Test set\n",
    "y_pred_at = classifier.predict(tfidf_test)"
   ]
  },
  {
   "cell_type": "code",
   "execution_count": 180,
   "metadata": {},
   "outputs": [
    {
     "name": "stdout",
     "output_type": "stream",
     "text": [
      "SVM Model 2 Arabic Turkish with BiGram TF IDF Embedding\n",
      "accuracy :  0.6472945891783567\n",
      "f1_score :  0.15818434585617477\n",
      "precision score :  0.17282925782925784\n"
     ]
    },
    {
     "name": "stderr",
     "output_type": "stream",
     "text": [
      "c:\\Python39\\lib\\site-packages\\sklearn\\metrics\\_classification.py:1248: UndefinedMetricWarning: Precision is ill-defined and being set to 0.0 in labels with no predicted samples. Use `zero_division` parameter to control this behavior.\n",
      "  _warn_prf(average, modifier, msg_start, len(result))\n"
     ]
    }
   ],
   "source": [
    "from sklearn import metrics\n",
    "print(\"SVM Model 2 Arabic Turkish with BiGram TF IDF Embedding\")\n",
    "print('accuracy : ', metrics.accuracy_score(y_at_test, y_pred_at))\n",
    "print('f1_score : ', metrics.f1_score(y_at_test, y_pred_at, average='macro'))\n",
    "print('precision score : ', metrics.precision_score(y_at_test, y_pred_at, average= 'macro'))"
   ]
  },
  {
   "cell_type": "code",
   "execution_count": 181,
   "metadata": {},
   "outputs": [],
   "source": [
    "# Model Chinois Japonais Coréen\n",
    "tfidf = TfidfVectorizer(ngram_range=(2,2), max_df= 0.8)\n",
    "X = X_cjk_train + X_cjk_test\n",
    "tfidf_X = tfidf.fit_transform(X)\n",
    "tfidf_train = tfidf.transform(X_cjk_train)\n",
    "tfidf_test = tfidf.transform(X_cjk_test)\n",
    "classifier = SVC(kernel = 'linear', random_state = 29)\n",
    "classifier.fit(tfidf_train, y_cjk_train)\n",
    "#Prediction sur le Test set\n",
    "y_pred_cjk = classifier.predict(tfidf_test)"
   ]
  },
  {
   "cell_type": "code",
   "execution_count": 182,
   "metadata": {},
   "outputs": [
    {
     "name": "stdout",
     "output_type": "stream",
     "text": [
      "SVM Model 2 Chinese Japanese and Korean with BiGram TF IDF Embedding\n",
      "accuracy :  0.6004784688995215\n",
      "f1_score :  0.2111401775629068\n",
      "precision score :  0.20359594118026916\n"
     ]
    },
    {
     "name": "stderr",
     "output_type": "stream",
     "text": [
      "c:\\Python39\\lib\\site-packages\\sklearn\\metrics\\_classification.py:1248: UndefinedMetricWarning: Precision is ill-defined and being set to 0.0 in labels with no predicted samples. Use `zero_division` parameter to control this behavior.\n",
      "  _warn_prf(average, modifier, msg_start, len(result))\n"
     ]
    }
   ],
   "source": [
    "from sklearn import metrics\n",
    "print(\"SVM Model 2 Chinese Japanese and Korean with BiGram TF IDF Embedding\")\n",
    "print('accuracy : ', metrics.accuracy_score(y_cjk_test, y_pred_cjk))\n",
    "print('f1_score : ', metrics.f1_score(y_cjk_test, y_pred_cjk, average='macro'))\n",
    "print('precision score : ', metrics.precision_score(y_cjk_test, y_pred_cjk, average= 'macro'))"
   ]
  },
  {
   "cell_type": "code",
   "execution_count": 183,
   "metadata": {},
   "outputs": [],
   "source": [
    "# Model Français allemand espagnol italien\n",
    "tfidf = TfidfVectorizer(ngram_range=(2,2), max_df= 0.8)\n",
    "X = X_fgsi_train + X_fgsi_test\n",
    "tfidf_X = tfidf.fit_transform(X)\n",
    "tfidf_train = tfidf.transform(X_fgsi_train)\n",
    "tfidf_test = tfidf.transform(X_fgsi_test)\n",
    "classifier = SVC(kernel = 'linear', random_state = 29)\n",
    "classifier.fit(tfidf_train, y_fgsi_train)\n",
    "#Prediction sur le Test set\n",
    "y_pred_fgsi = classifier.predict(tfidf_test)"
   ]
  },
  {
   "cell_type": "code",
   "execution_count": 189,
   "metadata": {},
   "outputs": [
    {
     "name": "stdout",
     "output_type": "stream",
     "text": [
      "SVM Model 2 French German Spanish and Italian with BiGram TF IDF Embedding\n",
      "accuracy :  0.5543575920934412\n",
      "f1_score :  0.2550747985897411\n",
      "precision score :  0.8287652958373828\n"
     ]
    }
   ],
   "source": [
    "from sklearn import metrics\n",
    "print(\"SVM Model 2 French German Spanish and Italian with BiGram TF IDF Embedding\")\n",
    "print('accuracy : ', metrics.accuracy_score(y_fgsi_test, y_pred_fgsi))\n",
    "print('f1_score : ', metrics.f1_score(y_fgsi_test, y_pred_fgsi, average='macro'))\n",
    "print('precision score : ', metrics.precision_score(y_fgsi_test, y_pred_fgsi, average= 'macro'))"
   ]
  },
  {
   "attachments": {},
   "cell_type": "markdown",
   "metadata": {},
   "source": [
    "### Tester le modèle le plus performant sur les données tests\n",
    "\n",
    "Vous pouvez commencer ici ou Restart le kernel"
   ]
  },
  {
   "cell_type": "code",
   "execution_count": null,
   "metadata": {},
   "outputs": [],
   "source": [
    "# SVM TFIDF BIGRAM CROSS VALIDATION K_fold = 10 \n",
    "# 46 min de compilation\n",
    "# Si vous ne souhaitez pas attendre autant de temps, vous pouvez utiliser le modèle sans cross validation en bas (dernière cellule)\n",
    "# 0.72 pour le validation set\n",
    "\n",
    "import numpy as np\n",
    "import pandas as pd\n",
    "from matplotlib import pyplot\n",
    "import contractions\n",
    "import re\n",
    "from sklearn.feature_extraction.text import TfidfVectorizer\n",
    "from sklearn.model_selection import cross_val_score, KFold\n",
    "from sklearn.model_selection import train_test_split\n",
    "from sklearn.svm import SVC"
   ]
  },
  {
   "cell_type": "code",
   "execution_count": null,
   "metadata": {},
   "outputs": [],
   "source": [
    "with open('test.txt') as file:\n",
    "    lines = file.readlines()\n",
    "    with open('test.txt', \"w\") as file:\n",
    "        for line in lines:\n",
    "            file.write(re.sub(r\"\\(([A-Z]+)\\) (.+)\", r'\\1;\"\\2\"', line))\n",
    "# Upload du fichier\n",
    "df = pd.read_table(\"test.txt\", sep=\";\", names=[\"origin\",\"text\"])"
   ]
  },
  {
   "cell_type": "code",
   "execution_count": null,
   "metadata": {},
   "outputs": [],
   "source": [
    "#Preprocessing\n",
    "\n",
    "def clean_text(text):\n",
    "    \n",
    "    #lowercase\n",
    "    res_text = text.lower()\n",
    "    #contactions\n",
    "    res_text = contractions.fix(res_text)\n",
    "    #remove punctuation\n",
    "    res_text = re.sub(r'[^\\w\\s]', '', res_text)\n",
    "\n",
    "    return res_text\n",
    "cleaned_text = [clean_text(df.iloc[i]['text']) for i in range(len(df))]\n",
    "df['cleaned_text'] = cleaned_text"
   ]
  },
  {
   "cell_type": "code",
   "execution_count": null,
   "metadata": {},
   "outputs": [],
   "source": [
    "# Cellule à executer pour SVM avec cross validation\n",
    "\n",
    "tfidf = TfidfVectorizer(ngram_range=(2,2), max_df=0.8)\n",
    "X = df['cleaned_text'].values.tolist()\n",
    "Y = df['origin'].values.tolist()\n",
    "tfidf_X = tfidf.fit_transform(X)\n",
    "# Utilisation du modèle SVM\n",
    "\n",
    "classifier = SVC(kernel = 'linear', random_state = 29)\n",
    "K_folds = KFold(n_splits=10)\n",
    "scores = cross_val_score(classifier, tfidf_X, Y, cv=K_folds)\n",
    "print(\"Cross Validation Scores: \", scores)\n",
    "print(\"Average CV Score: \", scores.mean())\n",
    "print(\"Number of CV Scores used in Average: \", len(scores)) "
   ]
  },
  {
   "cell_type": "code",
   "execution_count": null,
   "metadata": {},
   "outputs": [],
   "source": [
    "# Cellule à executer pour SVM sans cross validation\n",
    "X = df['cleaned_text'].values.tolist()\n",
    "Y = df['origin'].values.tolist()\n",
    "tf = TfidfVectorizer(max_df=0.8, ngram_range=(2,2))\n",
    "tf_X = tf.fit_transform(X)\n",
    "X_train, X_test, y_train, y_test = train_test_split(X,Y, test_size=0.2, random_state=29)\n",
    "tf_train = tf.transform(X_train)\n",
    "tf_test = tf.transform(X_test)\n",
    "from sklearn.svm import SVC\n",
    "classifier = SVC(kernel = 'linear', random_state = 0)\n",
    "classifier.fit(tf_train, y_train)\n",
    "tf_y_pred = classifier.predict(tf_test)\n",
    "from sklearn import metrics\n",
    "print(\"SVM with TriGram TF IDF Embedding\")\n",
    "print('accuracy : ', metrics.accuracy_score(y_test, tf_y_pred))\n",
    "print('f1_score : ', metrics.f1_score(y_test, tf_y_pred, average='macro'))\n",
    "print('precision score : ', metrics.precision_score(y_test, tf_y_pred, average= 'macro'))"
   ]
  }
 ],
 "metadata": {
  "kernelspec": {
   "display_name": "Python 3",
   "language": "python",
   "name": "python3"
  },
  "language_info": {
   "codemirror_mode": {
    "name": "ipython",
    "version": 3
   },
   "file_extension": ".py",
   "mimetype": "text/x-python",
   "name": "python",
   "nbconvert_exporter": "python",
   "pygments_lexer": "ipython3",
   "version": "3.9.7"
  },
  "orig_nbformat": 4,
  "vscode": {
   "interpreter": {
    "hash": "81794d4967e6c3204c66dcd87b604927b115b27c00565d3d43f05ba2f3a2cb0d"
   }
  }
 },
 "nbformat": 4,
 "nbformat_minor": 2
}
